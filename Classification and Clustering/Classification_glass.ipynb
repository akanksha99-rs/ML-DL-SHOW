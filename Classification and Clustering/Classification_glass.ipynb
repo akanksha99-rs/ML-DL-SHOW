{
  "cells": [
    {
      "metadata": {},
      "cell_type": "markdown",
      "source": "## The Machine Learning And Deep Learning Show"
    },
    {
      "metadata": {},
      "cell_type": "markdown",
      "source": "## by Akanksha"
    },
    {
      "metadata": {
        "trusted": true
      },
      "cell_type": "code",
      "source": "import pandas as pd\nimport numpy as np\nimport matplotlib.pyplot as plt",
      "execution_count": 2,
      "outputs": []
    },
    {
      "metadata": {
        "trusted": true
      },
      "cell_type": "code",
      "source": "dataset = pd.read_csv(\"Data/glass.csv\")\ndataset.fillna(0)\ndataset.head()",
      "execution_count": 3,
      "outputs": [
        {
          "output_type": "execute_result",
          "execution_count": 3,
          "data": {
            "text/html": "<div>\n<table border=\"1\" class=\"dataframe\">\n  <thead>\n    <tr style=\"text-align: right;\">\n      <th></th>\n      <th>RI</th>\n      <th>Na</th>\n      <th>Mg</th>\n      <th>Al</th>\n      <th>Si</th>\n      <th>K</th>\n      <th>Ca</th>\n      <th>Ba</th>\n      <th>Fe</th>\n      <th>Type</th>\n    </tr>\n  </thead>\n  <tbody>\n    <tr>\n      <th>0</th>\n      <td>1.52101</td>\n      <td>13.64</td>\n      <td>4.49</td>\n      <td>1.10</td>\n      <td>71.78</td>\n      <td>0.06</td>\n      <td>8.75</td>\n      <td>0.0</td>\n      <td>0.0</td>\n      <td>1</td>\n    </tr>\n    <tr>\n      <th>1</th>\n      <td>1.51761</td>\n      <td>13.89</td>\n      <td>3.60</td>\n      <td>1.36</td>\n      <td>72.73</td>\n      <td>0.48</td>\n      <td>7.83</td>\n      <td>0.0</td>\n      <td>0.0</td>\n      <td>1</td>\n    </tr>\n    <tr>\n      <th>2</th>\n      <td>1.51618</td>\n      <td>13.53</td>\n      <td>3.55</td>\n      <td>1.54</td>\n      <td>72.99</td>\n      <td>0.39</td>\n      <td>7.78</td>\n      <td>0.0</td>\n      <td>0.0</td>\n      <td>1</td>\n    </tr>\n    <tr>\n      <th>3</th>\n      <td>1.51766</td>\n      <td>13.21</td>\n      <td>3.69</td>\n      <td>1.29</td>\n      <td>72.61</td>\n      <td>0.57</td>\n      <td>8.22</td>\n      <td>0.0</td>\n      <td>0.0</td>\n      <td>1</td>\n    </tr>\n    <tr>\n      <th>4</th>\n      <td>1.51742</td>\n      <td>13.27</td>\n      <td>3.62</td>\n      <td>1.24</td>\n      <td>73.08</td>\n      <td>0.55</td>\n      <td>8.07</td>\n      <td>0.0</td>\n      <td>0.0</td>\n      <td>1</td>\n    </tr>\n  </tbody>\n</table>\n</div>",
            "text/plain": "        RI     Na    Mg    Al     Si     K    Ca   Ba   Fe  Type\n0  1.52101  13.64  4.49  1.10  71.78  0.06  8.75  0.0  0.0     1\n1  1.51761  13.89  3.60  1.36  72.73  0.48  7.83  0.0  0.0     1\n2  1.51618  13.53  3.55  1.54  72.99  0.39  7.78  0.0  0.0     1\n3  1.51766  13.21  3.69  1.29  72.61  0.57  8.22  0.0  0.0     1\n4  1.51742  13.27  3.62  1.24  73.08  0.55  8.07  0.0  0.0     1"
          },
          "metadata": {}
        }
      ]
    },
    {
      "metadata": {
        "trusted": true
      },
      "cell_type": "code",
      "source": "dataset.corr()",
      "execution_count": 4,
      "outputs": [
        {
          "output_type": "execute_result",
          "execution_count": 4,
          "data": {
            "text/html": "<div>\n<table border=\"1\" class=\"dataframe\">\n  <thead>\n    <tr style=\"text-align: right;\">\n      <th></th>\n      <th>RI</th>\n      <th>Na</th>\n      <th>Mg</th>\n      <th>Al</th>\n      <th>Si</th>\n      <th>K</th>\n      <th>Ca</th>\n      <th>Ba</th>\n      <th>Fe</th>\n      <th>Type</th>\n    </tr>\n  </thead>\n  <tbody>\n    <tr>\n      <th>RI</th>\n      <td>1.000000</td>\n      <td>-0.191885</td>\n      <td>-0.122274</td>\n      <td>-0.407326</td>\n      <td>-0.542052</td>\n      <td>-0.289833</td>\n      <td>0.810403</td>\n      <td>-0.000386</td>\n      <td>0.143010</td>\n      <td>-0.164237</td>\n    </tr>\n    <tr>\n      <th>Na</th>\n      <td>-0.191885</td>\n      <td>1.000000</td>\n      <td>-0.273732</td>\n      <td>0.156794</td>\n      <td>-0.069809</td>\n      <td>-0.266087</td>\n      <td>-0.275442</td>\n      <td>0.326603</td>\n      <td>-0.241346</td>\n      <td>0.502898</td>\n    </tr>\n    <tr>\n      <th>Mg</th>\n      <td>-0.122274</td>\n      <td>-0.273732</td>\n      <td>1.000000</td>\n      <td>-0.481799</td>\n      <td>-0.165927</td>\n      <td>0.005396</td>\n      <td>-0.443750</td>\n      <td>-0.492262</td>\n      <td>0.083060</td>\n      <td>-0.744993</td>\n    </tr>\n    <tr>\n      <th>Al</th>\n      <td>-0.407326</td>\n      <td>0.156794</td>\n      <td>-0.481799</td>\n      <td>1.000000</td>\n      <td>-0.005524</td>\n      <td>0.325958</td>\n      <td>-0.259592</td>\n      <td>0.479404</td>\n      <td>-0.074402</td>\n      <td>0.598829</td>\n    </tr>\n    <tr>\n      <th>Si</th>\n      <td>-0.542052</td>\n      <td>-0.069809</td>\n      <td>-0.165927</td>\n      <td>-0.005524</td>\n      <td>1.000000</td>\n      <td>-0.193331</td>\n      <td>-0.208732</td>\n      <td>-0.102151</td>\n      <td>-0.094201</td>\n      <td>0.151565</td>\n    </tr>\n    <tr>\n      <th>K</th>\n      <td>-0.289833</td>\n      <td>-0.266087</td>\n      <td>0.005396</td>\n      <td>0.325958</td>\n      <td>-0.193331</td>\n      <td>1.000000</td>\n      <td>-0.317836</td>\n      <td>-0.042618</td>\n      <td>-0.007719</td>\n      <td>-0.010054</td>\n    </tr>\n    <tr>\n      <th>Ca</th>\n      <td>0.810403</td>\n      <td>-0.275442</td>\n      <td>-0.443750</td>\n      <td>-0.259592</td>\n      <td>-0.208732</td>\n      <td>-0.317836</td>\n      <td>1.000000</td>\n      <td>-0.112841</td>\n      <td>0.124968</td>\n      <td>0.000952</td>\n    </tr>\n    <tr>\n      <th>Ba</th>\n      <td>-0.000386</td>\n      <td>0.326603</td>\n      <td>-0.492262</td>\n      <td>0.479404</td>\n      <td>-0.102151</td>\n      <td>-0.042618</td>\n      <td>-0.112841</td>\n      <td>1.000000</td>\n      <td>-0.058692</td>\n      <td>0.575161</td>\n    </tr>\n    <tr>\n      <th>Fe</th>\n      <td>0.143010</td>\n      <td>-0.241346</td>\n      <td>0.083060</td>\n      <td>-0.074402</td>\n      <td>-0.094201</td>\n      <td>-0.007719</td>\n      <td>0.124968</td>\n      <td>-0.058692</td>\n      <td>1.000000</td>\n      <td>-0.188278</td>\n    </tr>\n    <tr>\n      <th>Type</th>\n      <td>-0.164237</td>\n      <td>0.502898</td>\n      <td>-0.744993</td>\n      <td>0.598829</td>\n      <td>0.151565</td>\n      <td>-0.010054</td>\n      <td>0.000952</td>\n      <td>0.575161</td>\n      <td>-0.188278</td>\n      <td>1.000000</td>\n    </tr>\n  </tbody>\n</table>\n</div>",
            "text/plain": "            RI        Na        Mg        Al        Si         K        Ca  \\\nRI    1.000000 -0.191885 -0.122274 -0.407326 -0.542052 -0.289833  0.810403   \nNa   -0.191885  1.000000 -0.273732  0.156794 -0.069809 -0.266087 -0.275442   \nMg   -0.122274 -0.273732  1.000000 -0.481799 -0.165927  0.005396 -0.443750   \nAl   -0.407326  0.156794 -0.481799  1.000000 -0.005524  0.325958 -0.259592   \nSi   -0.542052 -0.069809 -0.165927 -0.005524  1.000000 -0.193331 -0.208732   \nK    -0.289833 -0.266087  0.005396  0.325958 -0.193331  1.000000 -0.317836   \nCa    0.810403 -0.275442 -0.443750 -0.259592 -0.208732 -0.317836  1.000000   \nBa   -0.000386  0.326603 -0.492262  0.479404 -0.102151 -0.042618 -0.112841   \nFe    0.143010 -0.241346  0.083060 -0.074402 -0.094201 -0.007719  0.124968   \nType -0.164237  0.502898 -0.744993  0.598829  0.151565 -0.010054  0.000952   \n\n            Ba        Fe      Type  \nRI   -0.000386  0.143010 -0.164237  \nNa    0.326603 -0.241346  0.502898  \nMg   -0.492262  0.083060 -0.744993  \nAl    0.479404 -0.074402  0.598829  \nSi   -0.102151 -0.094201  0.151565  \nK    -0.042618 -0.007719 -0.010054  \nCa   -0.112841  0.124968  0.000952  \nBa    1.000000 -0.058692  0.575161  \nFe   -0.058692  1.000000 -0.188278  \nType  0.575161 -0.188278  1.000000  "
          },
          "metadata": {}
        }
      ]
    },
    {
      "metadata": {},
      "cell_type": "markdown",
      "source": "Top correlation between columns:\n* **Type [-1]** vs **Na [1]**: 0.5\n* **Type [-1]** vs **Al [3]**: 0.6\n* **Type[-1]** vs **Ba [-3]**: 0.57"
    },
    {
      "metadata": {
        "trusted": true
      },
      "cell_type": "code",
      "source": "X = dataset.iloc[:, [1, 3, -3] ]\nY = dataset.iloc[ :, [-1] ]",
      "execution_count": 5,
      "outputs": []
    },
    {
      "metadata": {
        "trusted": true
      },
      "cell_type": "code",
      "source": "plt.scatter(dataset[\"Type\"], dataset[\"RI\"])\nplt.xlabel(\"Type --->\")\nplt.ylabel(\"RI --->\")\nplt.title(\"Distribution of Types in terms of RI\")\nplt.show()\nplt.bar(dataset[\"Type\"], dataset[\"RI\"])\nplt.xlabel(\"Type --->\")\nplt.ylabel(\"RI --->\")\nplt.title(\"Bar graph of Type vs RI\")\nplt.show()\nplt.hist(dataset[\"Type\"], color = \"violet\")\nplt.show()",
      "execution_count": 6,
      "outputs": [
        {
          "output_type": "display_data",
          "data": {
            "image/png": "[encoded data removed]",
            "text/plain": "<matplotlib.figure.Figure at 0x7f968ca5cdd8>"
          },
          "metadata": {}
        },
        {
          "output_type": "display_data",
          "data": {
            "image/png": "[encoded data removed]",
            "text/plain": "<matplotlib.figure.Figure at 0x7f968c749c88>"
          },
          "metadata": {}
        },
        {
          "output_type": "display_data",
          "data": {
            "image/png": "[encoded data removed]",
            "text/plain": "<matplotlib.figure.Figure at 0x7f968c745b00>"
          },
          "metadata": {}
        }
      ]
    },
    {
      "metadata": {},
      "cell_type": "markdown",
      "source": "## Split"
    },
    {
      "metadata": {
        "trusted": true
      },
      "cell_type": "code",
      "source": "from sklearn.model_selection import train_test_split\nX_train, X_test,Y_train, Y_test= train_test_split(X,Y, test_size=0.1)",
      "execution_count": 7,
      "outputs": []
    },
    {
      "metadata": {},
      "cell_type": "markdown",
      "source": "## Logistics Regression"
    },
    {
      "metadata": {
        "trusted": true
      },
      "cell_type": "code",
      "source": "from sklearn.linear_model import LogisticRegression\nlogclass= LogisticRegression()\nlogclass.fit(X_train, Y_train)",
      "execution_count": 8,
      "outputs": [
        {
          "output_type": "stream",
          "text": "/home/nbuser/anaconda3_420/lib/python3.5/site-packages/sklearn/utils/validation.py:578: DataConversionWarning: A column-vector y was passed when a 1d array was expected. Please change the shape of y to (n_samples, ), for example using ravel().\n  y = column_or_1d(y, warn=True)\n",
          "name": "stderr"
        },
        {
          "output_type": "execute_result",
          "execution_count": 8,
          "data": {
            "text/plain": "LogisticRegression(C=1.0, class_weight=None, dual=False, fit_intercept=True,\n          intercept_scaling=1, max_iter=100, multi_class='ovr', n_jobs=1,\n          penalty='l2', random_state=None, solver='liblinear', tol=0.0001,\n          verbose=0, warm_start=False)"
          },
          "metadata": {}
        }
      ]
    },
    {
      "metadata": {
        "trusted": true
      },
      "cell_type": "code",
      "source": "pred_log=logclass.predict(X_test)",
      "execution_count": 9,
      "outputs": []
    },
    {
      "metadata": {
        "trusted": true
      },
      "cell_type": "code",
      "source": "from sklearn.metrics import confusion_matrix\nconfusion_matrix(Y_test, pred_log)",
      "execution_count": 10,
      "outputs": [
        {
          "output_type": "execute_result",
          "execution_count": 10,
          "data": {
            "text/plain": "array([[2, 2, 0, 0, 0, 0],\n       [6, 4, 0, 0, 0, 0],\n       [1, 1, 0, 0, 0, 0],\n       [0, 2, 0, 0, 0, 0],\n       [0, 1, 0, 0, 0, 0],\n       [1, 0, 0, 0, 0, 2]])"
          },
          "metadata": {}
        }
      ]
    },
    {
      "metadata": {
        "trusted": true
      },
      "cell_type": "code",
      "source": "acc_log = logclass.score(X_test, Y_test)\nacc_log",
      "execution_count": 11,
      "outputs": [
        {
          "output_type": "execute_result",
          "execution_count": 11,
          "data": {
            "text/plain": "0.36363636363636365"
          },
          "metadata": {}
        }
      ]
    },
    {
      "metadata": {},
      "cell_type": "markdown",
      "source": "## KNN Classifier"
    },
    {
      "metadata": {
        "trusted": true
      },
      "cell_type": "code",
      "source": "from sklearn.neighbors import KNeighborsClassifier\nknn= KNeighborsClassifier()\nknn.fit(X_train, Y_train)\nY_pred= knn.predict(X_test)",
      "execution_count": 12,
      "outputs": [
        {
          "output_type": "stream",
          "text": "/home/nbuser/anaconda3_420/lib/python3.5/site-packages/ipykernel/__main__.py:3: DataConversionWarning: A column-vector y was passed when a 1d array was expected. Please change the shape of y to (n_samples, ), for example using ravel().\n  app.launch_new_instance()\n",
          "name": "stderr"
        }
      ]
    },
    {
      "metadata": {
        "trusted": true
      },
      "cell_type": "code",
      "source": "from sklearn.metrics import confusion_matrix\nconfusion_matrix(Y_test, Y_pred)",
      "execution_count": 13,
      "outputs": [
        {
          "output_type": "execute_result",
          "execution_count": 13,
          "data": {
            "text/plain": "array([[4, 0, 0, 0, 0, 0],\n       [5, 5, 0, 0, 0, 0],\n       [1, 1, 0, 0, 0, 0],\n       [0, 2, 0, 0, 0, 0],\n       [0, 1, 0, 0, 0, 0],\n       [0, 1, 0, 0, 0, 2]])"
          },
          "metadata": {}
        }
      ]
    },
    {
      "metadata": {
        "trusted": true
      },
      "cell_type": "code",
      "source": "acc_KNN = knn.score(X_test,Y_test)\nacc_KNN",
      "execution_count": 14,
      "outputs": [
        {
          "output_type": "execute_result",
          "execution_count": 14,
          "data": {
            "text/plain": "0.5"
          },
          "metadata": {}
        }
      ]
    },
    {
      "metadata": {},
      "cell_type": "markdown",
      "source": "## Decision Tree Classifier"
    },
    {
      "metadata": {
        "trusted": true
      },
      "cell_type": "code",
      "source": "from sklearn.tree import DecisionTreeClassifier\nDT=DecisionTreeClassifier()\nDT.fit(X_train,Y_train)\npred_DT=DT.predict(X_test)",
      "execution_count": 15,
      "outputs": []
    },
    {
      "metadata": {
        "trusted": true
      },
      "cell_type": "code",
      "source": "from sklearn.metrics import confusion_matrix\nconfusion_matrix(Y_test, pred_DT)",
      "execution_count": 16,
      "outputs": [
        {
          "output_type": "execute_result",
          "execution_count": 16,
          "data": {
            "text/plain": "array([[4, 0, 0, 0, 0, 0],\n       [6, 3, 1, 0, 0, 0],\n       [0, 1, 0, 0, 0, 1],\n       [0, 2, 0, 0, 0, 0],\n       [0, 1, 0, 0, 0, 0],\n       [1, 1, 0, 0, 0, 1]])"
          },
          "metadata": {}
        }
      ]
    },
    {
      "metadata": {
        "trusted": true
      },
      "cell_type": "code",
      "source": "acc_DT = DT.score(X_test,Y_test)\nacc_DT",
      "execution_count": 17,
      "outputs": [
        {
          "output_type": "execute_result",
          "execution_count": 17,
          "data": {
            "text/plain": "0.36363636363636365"
          },
          "metadata": {}
        }
      ]
    },
    {
      "metadata": {},
      "cell_type": "markdown",
      "source": "## Random Forest Classifier"
    },
    {
      "metadata": {
        "trusted": true
      },
      "cell_type": "code",
      "source": "from sklearn.ensemble import RandomForestClassifier\nRf=RandomForestClassifier()\nRf.fit(X_train,Y_train)\npred_rf=Rf.predict(X_test)\n\n",
      "execution_count": 18,
      "outputs": [
        {
          "output_type": "stream",
          "text": "/home/nbuser/anaconda3_420/lib/python3.5/site-packages/sklearn/ensemble/weight_boosting.py:29: DeprecationWarning: numpy.core.umath_tests is an internal NumPy module and should not be imported. It will be removed in a future NumPy release.\n  from numpy.core.umath_tests import inner1d\n/home/nbuser/anaconda3_420/lib/python3.5/site-packages/ipykernel/__main__.py:3: DataConversionWarning: A column-vector y was passed when a 1d array was expected. Please change the shape of y to (n_samples,), for example using ravel().\n  app.launch_new_instance()\n",
          "name": "stderr"
        }
      ]
    },
    {
      "metadata": {
        "trusted": true
      },
      "cell_type": "code",
      "source": "from sklearn.metrics import confusion_matrix\nconfusion_matrix(Y_test, pred_rf)",
      "execution_count": 19,
      "outputs": [
        {
          "output_type": "execute_result",
          "execution_count": 19,
          "data": {
            "text/plain": "array([[4, 0, 0, 0, 0, 0],\n       [4, 3, 2, 0, 1, 0],\n       [1, 1, 0, 0, 0, 0],\n       [0, 2, 0, 0, 0, 0],\n       [0, 1, 0, 0, 0, 0],\n       [1, 0, 1, 0, 0, 1]])"
          },
          "metadata": {}
        }
      ]
    },
    {
      "metadata": {
        "trusted": true
      },
      "cell_type": "code",
      "source": "acc_rf = Rf.score(X_test, Y_test)\nacc_rf",
      "execution_count": 20,
      "outputs": [
        {
          "output_type": "execute_result",
          "execution_count": 20,
          "data": {
            "text/plain": "0.36363636363636365"
          },
          "metadata": {}
        }
      ]
    },
    {
      "metadata": {
        "trusted": true
      },
      "cell_type": "code",
      "source": "",
      "execution_count": null,
      "outputs": []
    }
  ],
  "metadata": {
    "kernelspec": {
      "name": "python3",
      "display_name": "Python 3",
      "language": "python"
    },
    "language_info": {
      "mimetype": "text/x-python",
      "nbconvert_exporter": "python",
      "name": "python",
      "pygments_lexer": "ipython3",
      "version": "3.5.4",
      "file_extension": ".py",
      "codemirror_mode": {
        "version": 3,
        "name": "ipython"
      }
    }
  },
  "nbformat": 4,
  "nbformat_minor": 2
}