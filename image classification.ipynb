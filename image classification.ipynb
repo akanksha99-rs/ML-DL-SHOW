{
 "cells": [
  {
   "cell_type": "code",
   "execution_count": 1,
   "metadata": {},
   "outputs": [
    {
     "name": "stderr",
     "output_type": "stream",
     "text": [
      "Using TensorFlow backend.\n"
     ]
    }
   ],
   "source": [
    "#importing all te req lib\n",
    "import tensorflow as tf\n",
    "from keras.preprocessing.image import ImageDataGenerator\n",
    "from keras.models import Sequential\n",
    "from keras.layers import Conv2D, MaxPooling2D\n",
    "from keras.layers import Activation, Dropout, Flatten, Dense\n",
    "from keras import backend as K\n",
    "from keras.preprocessing import image\n",
    "import numpy as np"
   ]
  },
  {
   "cell_type": "code",
   "execution_count": 2,
   "metadata": {},
   "outputs": [],
   "source": [
    "# dimensions of our images.\n",
    "img_width, img_height = 150, 150\n",
    "\n",
    "#defining the data directories\n",
    "train_data_dir= 'flowers/Train'\n",
    "validation_data_dir= 'flowers/Validation'\n",
    "n_training_sample= 100\n",
    "n_validation_sample= 80\n",
    "epochs=40\n",
    "batch_size=10"
   ]
  },
  {
   "cell_type": "code",
   "execution_count": 3,
   "metadata": {},
   "outputs": [],
   "source": [
    "if K.image_data_format() == 'channels_first':\n",
    "    input_shape = (3, img_width, img_height)\n",
    "else:\n",
    "    input_shape = (img_width, img_height, 3)"
   ]
  },
  {
   "cell_type": "code",
   "execution_count": 4,
   "metadata": {},
   "outputs": [],
   "source": [
    "model = tf.keras.models.Sequential([tf.keras.layers.Flatten(), \n",
    "                                    tf.keras.layers.Dense(1800, activation=tf.nn.sigmoid), \n",
    "                                    tf.keras.layers.Dense(1000, activation=tf.nn.relu), \n",
    "                                    tf.keras.layers.Dense(500, activation=tf.nn.relu), \n",
    "                                    tf.keras.layers.Dense(256, activation=tf.nn.relu), \n",
    "                                    tf.keras.layers.Dense(128, activation=tf.nn.relu),\n",
    "                                    tf.keras.layers.Dense(5, activation=tf.nn.sigmoid)])"
   ]
  },
  {
   "cell_type": "code",
   "execution_count": 5,
   "metadata": {},
   "outputs": [],
   "source": [
    "model.compile(optimizer = tf.optimizers.Adam(),\n",
    "              loss = 'categorical_crossentropy',\n",
    "              metrics=['accuracy'])"
   ]
  },
  {
   "cell_type": "code",
   "execution_count": 6,
   "metadata": {},
   "outputs": [
    {
     "name": "stdout",
     "output_type": "stream",
     "text": [
      "Found 3578 images belonging to 5 classes.\n",
      "Found 400 images belonging to 5 classes.\n",
      "WARNING:tensorflow:From <ipython-input-6-b8de224c4c27>:28: Model.fit_generator (from tensorflow.python.keras.engine.training) is deprecated and will be removed in a future version.\n",
      "Instructions for updating:\n",
      "Please use Model.fit, which supports generators.\n",
      "WARNING:tensorflow:sample_weight modes were coerced from\n",
      "  ...\n",
      "    to  \n",
      "  ['...']\n",
      "Train for 10 steps, validate for 8 steps\n",
      "Epoch 1/40\n",
      "10/10 [==============================] - 25s 2s/step - loss: 1.8102 - accuracy: 0.2300 - val_loss: 1.6125 - val_accuracy: 0.2625\n",
      "Epoch 2/40\n",
      "10/10 [==============================] - 9s 908ms/step - loss: 1.6086 - accuracy: 0.2600 - val_loss: 1.5995 - val_accuracy: 0.2500\n",
      "Epoch 3/40\n",
      "10/10 [==============================] - 8s 844ms/step - loss: 1.6140 - accuracy: 0.1700 - val_loss: 1.6093 - val_accuracy: 0.2500\n",
      "Epoch 4/40\n",
      "10/10 [==============================] - 9s 867ms/step - loss: 1.6095 - accuracy: 0.2100 - val_loss: 1.6095 - val_accuracy: 0.2500\n",
      "Epoch 5/40\n",
      "10/10 [==============================] - 9s 921ms/step - loss: 1.6094 - accuracy: 0.2300 - val_loss: 1.6095 - val_accuracy: 0.2500\n",
      "Epoch 6/40\n",
      "10/10 [==============================] - 8s 837ms/step - loss: 1.6094 - accuracy: 0.1400 - val_loss: 1.6095 - val_accuracy: 0.2500\n",
      "Epoch 7/40\n",
      "10/10 [==============================] - 8s 828ms/step - loss: 1.6094 - accuracy: 0.1800 - val_loss: 1.6095 - val_accuracy: 0.2500\n",
      "Epoch 8/40\n",
      "10/10 [==============================] - 8s 787ms/step - loss: 1.6094 - accuracy: 0.2400 - val_loss: 1.6106 - val_accuracy: 0.2500\n",
      "Epoch 9/40\n",
      "10/10 [==============================] - 8s 788ms/step - loss: 1.6096 - accuracy: 0.1700 - val_loss: 1.6098 - val_accuracy: 0.2500\n",
      "Epoch 10/40\n",
      "10/10 [==============================] - 8s 787ms/step - loss: 1.6090 - accuracy: 0.1800 - val_loss: 1.6102 - val_accuracy: 0.2500\n",
      "Epoch 11/40\n",
      "10/10 [==============================] - 8s 790ms/step - loss: 1.6099 - accuracy: 0.1900 - val_loss: 1.6100 - val_accuracy: 0.2500\n",
      "Epoch 12/40\n",
      "10/10 [==============================] - 8s 788ms/step - loss: 1.6098 - accuracy: 0.1800 - val_loss: 1.6095 - val_accuracy: 0.2500\n",
      "Epoch 13/40\n",
      "10/10 [==============================] - 8s 804ms/step - loss: 1.6094 - accuracy: 0.2000 - val_loss: 1.6095 - val_accuracy: 0.1750\n",
      "Epoch 14/40\n",
      "10/10 [==============================] - 8s 782ms/step - loss: 1.6094 - accuracy: 0.1400 - val_loss: 1.6095 - val_accuracy: 0.1500\n",
      "Epoch 15/40\n",
      "10/10 [==============================] - 8s 838ms/step - loss: 1.6095 - accuracy: 0.1600 - val_loss: 1.6095 - val_accuracy: 0.2125\n",
      "Epoch 16/40\n",
      "10/10 [==============================] - 9s 868ms/step - loss: 1.6094 - accuracy: 0.2100 - val_loss: 1.6095 - val_accuracy: 0.2375\n",
      "Epoch 17/40\n",
      "10/10 [==============================] - 8s 785ms/step - loss: 1.6094 - accuracy: 0.2600 - val_loss: 1.6095 - val_accuracy: 0.2500\n",
      "Epoch 18/40\n",
      "10/10 [==============================] - 8s 790ms/step - loss: 1.6095 - accuracy: 0.1735 - val_loss: 1.6095 - val_accuracy: 0.2500\n",
      "Epoch 19/40\n",
      "10/10 [==============================] - 8s 786ms/step - loss: 1.6094 - accuracy: 0.1600 - val_loss: 1.6095 - val_accuracy: 0.2500\n",
      "Epoch 20/40\n",
      "10/10 [==============================] - 9s 855ms/step - loss: 1.6094 - accuracy: 0.2200 - val_loss: 1.6095 - val_accuracy: 0.2500\n",
      "Epoch 21/40\n",
      "10/10 [==============================] - 8s 836ms/step - loss: 1.6094 - accuracy: 0.1400 - val_loss: 1.6095 - val_accuracy: 0.2500\n",
      "Epoch 22/40\n",
      "10/10 [==============================] - 8s 785ms/step - loss: 1.6094 - accuracy: 0.1300 - val_loss: 1.6095 - val_accuracy: 0.2500\n",
      "Epoch 23/40\n",
      "10/10 [==============================] - 8s 784ms/step - loss: 1.6094 - accuracy: 0.1700 - val_loss: 1.6097 - val_accuracy: 0.1000\n",
      "Epoch 24/40\n",
      "10/10 [==============================] - 8s 814ms/step - loss: 1.6095 - accuracy: 0.2100 - val_loss: 1.6095 - val_accuracy: 0.1000\n",
      "Epoch 25/40\n",
      "10/10 [==============================] - 8s 787ms/step - loss: 1.6094 - accuracy: 0.2700 - val_loss: 1.6095 - val_accuracy: 0.1375\n",
      "Epoch 26/40\n",
      "10/10 [==============================] - 8s 783ms/step - loss: 1.6095 - accuracy: 0.1700 - val_loss: 1.6095 - val_accuracy: 0.2375\n",
      "Epoch 27/40\n",
      "10/10 [==============================] - 8s 784ms/step - loss: 1.6094 - accuracy: 0.1900 - val_loss: 1.6095 - val_accuracy: 0.2375\n",
      "Epoch 28/40\n",
      "10/10 [==============================] - 8s 827ms/step - loss: 1.6094 - accuracy: 0.2200 - val_loss: 1.6095 - val_accuracy: 0.1000\n",
      "Epoch 29/40\n",
      "10/10 [==============================] - 8s 781ms/step - loss: 1.6093 - accuracy: 0.2000 - val_loss: 1.6096 - val_accuracy: 0.1000\n",
      "Epoch 30/40\n",
      "10/10 [==============================] - 8s 789ms/step - loss: 1.6096 - accuracy: 0.3100 - val_loss: 1.6095 - val_accuracy: 0.1000\n",
      "Epoch 31/40\n",
      "10/10 [==============================] - 9s 855ms/step - loss: 1.6095 - accuracy: 0.1800 - val_loss: 1.6095 - val_accuracy: 0.1000\n",
      "Epoch 32/40\n",
      "10/10 [==============================] - 8s 786ms/step - loss: 1.6093 - accuracy: 0.2600 - val_loss: 1.6096 - val_accuracy: 0.1000\n",
      "Epoch 33/40\n",
      "10/10 [==============================] - 8s 831ms/step - loss: 1.6073 - accuracy: 0.3200 - val_loss: 1.6840 - val_accuracy: 0.1000\n",
      "Epoch 34/40\n",
      "10/10 [==============================] - 8s 826ms/step - loss: 1.6094 - accuracy: 0.3200 - val_loss: 1.6098 - val_accuracy: 0.2375\n",
      "Epoch 35/40\n",
      "10/10 [==============================] - 8s 780ms/step - loss: 1.6096 - accuracy: 0.1100 - val_loss: 1.6095 - val_accuracy: 0.2375\n",
      "Epoch 36/40\n",
      "10/10 [==============================] - 8s 791ms/step - loss: 1.6094 - accuracy: 0.1700 - val_loss: 1.6094 - val_accuracy: 0.2375\n",
      "Epoch 37/40\n",
      "10/10 [==============================] - 8s 781ms/step - loss: 1.6094 - accuracy: 0.1600 - val_loss: 1.6094 - val_accuracy: 0.2375\n",
      "Epoch 38/40\n",
      "10/10 [==============================] - 8s 810ms/step - loss: 1.6095 - accuracy: 0.2100 - val_loss: 1.6093 - val_accuracy: 0.2375\n",
      "Epoch 39/40\n",
      "10/10 [==============================] - 8s 798ms/step - loss: 1.6050 - accuracy: 0.1800 - val_loss: 1.6095 - val_accuracy: 0.2375\n",
      "Epoch 40/40\n",
      "10/10 [==============================] - 8s 801ms/step - loss: 1.6092 - accuracy: 0.2900 - val_loss: 1.6099 - val_accuracy: 0.2375\n"
     ]
    },
    {
     "data": {
      "text/plain": [
       "<tensorflow.python.keras.callbacks.History at 0x19d958f9388>"
      ]
     },
     "execution_count": 6,
     "metadata": {},
     "output_type": "execute_result"
    }
   ],
   "source": [
    "train_datagen = ImageDataGenerator(\n",
    "    rescale=1. / 255,\n",
    "    shear_range=0.2,\n",
    "    zoom_range=0.2,\n",
    "    horizontal_flip=True)\n",
    "\n",
    "# this is the augmentation configuration we will use for testing:\n",
    "# only rescaling\n",
    "test_datagen = ImageDataGenerator(rescale=1. / 255)\n",
    "\n",
    "train_generator = train_datagen.flow_from_directory(\n",
    "    train_data_dir,\n",
    "    target_size=(img_width, img_height),\n",
    "    batch_size=batch_size,\n",
    "    class_mode='categorical')\n",
    "\n",
    "validation_generator = test_datagen.flow_from_directory(\n",
    "    validation_data_dir,\n",
    "    target_size=(img_width, img_height),\n",
    "    batch_size=batch_size,\n",
    "    class_mode='categorical')\n",
    "\n",
    "model.fit_generator(\n",
    "    train_generator,\n",
    "    steps_per_epoch=n_training_sample // batch_size,\n",
    "    epochs=epochs,\n",
    "    validation_data=validation_generator,\n",
    "    validation_steps=n_validation_sample // batch_size)"
   ]
  },
  {
   "cell_type": "code",
   "execution_count": 7,
   "metadata": {},
   "outputs": [
    {
     "name": "stdout",
     "output_type": "stream",
     "text": [
      "[[1.         0.99998903 0.9917577  0.99997413 0.99996924]]\n"
     ]
    }
   ],
   "source": [
    "pred= image.load_img('flowers/Test/2522454811_f87af57d8b.jpg', target_size=(150,150))\n",
    "pred=image.img_to_array(pred)\n",
    "pred= np.expand_dims(pred, axis=0)\n",
    "result= model.predict(pred)\n",
    "print(result)"
   ]
  },
  {
   "cell_type": "code",
   "execution_count": null,
   "metadata": {},
   "outputs": [],
   "source": []
  }
 ],
 "metadata": {
  "kernelspec": {
   "display_name": "Python 3",
   "language": "python",
   "name": "python3"
  },
  "language_info": {
   "codemirror_mode": {
    "name": "ipython",
    "version": 3
   },
   "file_extension": ".py",
   "mimetype": "text/x-python",
   "name": "python",
   "nbconvert_exporter": "python",
   "pygments_lexer": "ipython3",
   "version": "3.7.7"
  }
 },
 "nbformat": 4,
 "nbformat_minor": 4
}
